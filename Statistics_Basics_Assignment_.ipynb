{
  "nbformat": 4,
  "nbformat_minor": 0,
  "metadata": {
    "colab": {
      "provenance": []
    },
    "kernelspec": {
      "name": "python3",
      "display_name": "Python 3"
    },
    "language_info": {
      "name": "python"
    }
  },
  "cells": [
    {
      "cell_type": "markdown",
      "source": [
        "##Statistics Basics - Assignment Solutions"
      ],
      "metadata": {
        "id": "RGhnB5qpKnOd"
      }
    },
    {
      "cell_type": "markdown",
      "source": [
        "**Question-1)  What is the difference between descriptive statistics and inferential statistics? Explain with examples.**\n",
        "\n",
        "**Answer-1)**\n",
        "\n",
        "Descriptive and inferential statistics are two main branches of statistics. Descriptive statistics describe and summarize data, while inferential statistics use sample data to make predictions or generalizations about a larger population.\n",
        "\n",
        "**Descriptive Statistics:-**\n",
        "\n",
        "Descriptive statistics involve methods for organizing, summarizing, and presenting a collection of data in a clear and meaningful way. They simply describe what the data shows without making any conclusions beyond the dataset itself. Key concepts include measures of central tendency and measures of variability.\n",
        "\n",
        "1. Measures of Central Tendency: These describe the center of the data.\n",
        "\n",
        "    Mean: The average of all data points.\n",
        "\n",
        "    Median: The middle value of a dataset when arranged in order.\n",
        "\n",
        "    Mode: The most frequent value in a dataset.\n",
        "\n",
        "2. Measures of Variability (or Spread): These describe how spread out the data points are.\n",
        "\n",
        "    Range: The difference between the highest and lowest values.\n",
        "\n",
        "    Standard Deviation: A measure of how much the data points deviate from the mean.\n",
        "\n",
        "    Variance: The average of the squared differences from the mean.\n",
        "\n",
        "**Example:**\n",
        "\n",
        "Imagine you have the test scores for all 30 students in a math class: 85, 92, 78, 88, 95, etc.\n",
        "You could use descriptive statistics to find:\n",
        "\n",
        "  i. The mean score for the class (e.g., 87.5).\n",
        "\n",
        "  ii. The median score (e.g., 88).\n",
        "\n",
        "  iii. The range of scores (e.g., from 70 to 100).\n",
        "\n",
        "  iv. A histogram  to show the distribution of scores, for instance, to see how many students scored in the 80s.\n",
        "\n",
        "\n",
        "**Inferential Statistics:-**\n",
        "\n",
        "Inferential statistics use data from a small group (a sample) to make inferences and draw conclusions about a much larger group (the population). The goal is to generalize findings and test hypotheses. Because inferential statistics rely on a sample, their conclusions are expressed in terms of probability.\n",
        "\n",
        "\n",
        "\n",
        "Key techniques in inferential statistics include:\n",
        "\n",
        "  i. Hypothesis Testing: A method to determine if there is enough evidence to reject a null hypothesis (a statement of no effect or no difference).\n",
        "\n",
        "  ii. Confidence Intervals: A range of values that likely contains the true population parameter.\n",
        "\n",
        "  ii. Regression Analysis: A statistical process for estimating the relationships between variables.\n",
        "\n",
        "**Example:**\n",
        "\n",
        "Continuing with the test score scenario, imagine you wanted to know the average math score for all 10th-grade students in your entire school district, which has thousands of students.\n",
        "\n",
        "  i. You could take a sample of 100 10th-grade students and calculate their average score.\n",
        "\n",
        "  ii. Then, you'd use inferential statistics to create a confidence interval around that sample mean. For example, you might conclude with 95% confidence that the true average math score for all 10th graders in the district is between 85 and 89. This conclusion goes beyond your collected data to a wider population.\n",
        "\n"
      ],
      "metadata": {
        "id": "hCb-TBpOIJcB"
      }
    },
    {
      "cell_type": "markdown",
      "source": [
        "**Question-02) What is sampling in statistics? Explain the differences between random and stratified sampling.**\n",
        "\n",
        "**Answer-02)**\n",
        "\n",
        "Sampling is the process of selecting a subset of individuals or items from a larger population to collect data from. The goal is to choose a sample that is representative of the entire population, allowing researchers to draw conclusions and make inferences about the larger group without having to collect data from every single member.\n",
        "\n",
        "**Random vs. Stratified Sampling-**\n",
        "\n",
        "Both random and stratified sampling are types of probability sampling, meaning every member of the population has a known, non-zero chance of being selected. The key difference lies in how the population is structured before the sample is chosen.\n",
        "\n",
        "**Random Sampling:-**\n",
        "\n",
        "In random sampling, also known as simple random sampling, every individual in the population has an equal chance of being selected. The selection is done purely by chance, like drawing names from a hat or using a random number generator. The process is straightforward and helps to minimize bias, as it doesn't favor any particular group.\n",
        "\n",
        "Process:\n",
        "\n",
        "1. Create a complete list of all individuals in the population.\n",
        "\n",
        "2. Use a random method to select the desired number of individuals for the sample.\n",
        "\n",
        "**Example:**\n",
        "\n",
        "A teacher wants to survey 10 students from a class of 50. They could write each student's name on a slip of paper, put them in a box, and draw 10 names at random. Each student has a 10 out of 50 chance of being selected.\n",
        "\n",
        "**Stratified Sampling :-**\n",
        "\n",
        "Stratified sampling involves dividing the population into non-overlapping subgroups, or strata, based on a shared characteristic (e.g., age, gender, race, income level). Once the strata are created, a random sample is drawn from each stratum. This method is used when researchers want to ensure that specific subgroups are adequately represented in the final sample, which is particularly important for diverse populations.\n",
        "\n",
        "Process:\n",
        "\n",
        "1. Divide the population into relevant strata based on a specific characteristic.\n",
        "\n",
        "2. Determine the proportion of each stratum in the overall population.\n",
        "\n",
        "3. Randomly select a proportional number of individuals from each stratum to form the final sample.\n",
        "\n",
        "**Example:**\n",
        "\n",
        "A researcher wants to survey 100 students at a university with a student body that is 60% undergraduate and 40% graduate. To ensure a representative sample, they would divide the student population into two strata: undergraduates and graduates. They would then randomly select 60 students from the undergraduate stratum and 40 students from the graduate stratum to make up the final sample of 100."
      ],
      "metadata": {
        "id": "k_D_1tvKLAZ8"
      }
    },
    {
      "cell_type": "markdown",
      "source": [
        "**Question-03)  Define mean, median, and mode. Explain why these measures of central tendency are important.**\n",
        "\n",
        "**Answer-03)**\n",
        "\n",
        "Mean, median, and mode are the three most common measures of central tendency, which is a single value that represents the center or a \"typical\" value of a dataset. They're all different ways of looking at where the data clusters.\n",
        "\n",
        "\n",
        "**1. Mean -**\n",
        "\n",
        "The mean, or the average, is calculated by summing all the values in a dataset and then dividing by the number of values. It is the most common measure of central tendency and is used for numerical data.\n",
        "\n",
        "\n",
        "Calculation: Sum of all values / Number of values\n",
        "\n",
        "Example: For the dataset {2, 3, 5, 8, 10}, the mean is (2+3+5+8+10)/5=28/5=5.6.\n",
        "\n",
        "**2. Median -**\n",
        "\n",
        "The median is the middle value in a dataset that has been ordered from least to greatest. It's often a better measure than the mean when the data contains extreme values or outliers.\n",
        "\n",
        "Calculation:\n",
        "\n",
        "If the dataset has an odd number of values, the median is the single middle number.\n",
        "\n",
        "If the dataset has an even number of values, the median is the average of the two middle numbers.\n",
        "\n",
        "Example:\n",
        "\n",
        "For the dataset {2, 3, 5, 8, 10}, the median is 5.\n",
        "\n",
        "For the dataset {2, 3, 5, 8, 10, 12}, the median is (5+8)/2=6.5.\n",
        "\n",
        "**3. Mode -**\n",
        "\n",
        "The mode is the value that appears most frequently in a dataset. A dataset can have one mode, more than one mode (bimodal or multimodal), or no mode at all if every value appears only once. The mode can be used for both numerical and categorical data.\n",
        "\n",
        "Calculation: Find the value that occurs most often.\n",
        "\n",
        "Example: For the dataset {2, 3, 3, 5, 8, 10}, the mode is 3.\n",
        "\n",
        "\n",
        "\n",
        "**Importance of Measures of Central Tendency :-**\n",
        "\n",
        "Measures of central tendency are important because they provide a concise, single-value summary of a dataset, which can be massive and complex. They help in:\n",
        "\n",
        "1. Summarizing Data: They reduce a large amount of information into a single, representative number, making it easier to understand and interpret.\n",
        "\n",
        "2. Comparing Datasets: They allow for a quick comparison between different groups. For example, comparing the median income of two different cities can show which city has a \"wealthier\" population, even if a few billionaires in one city skew the mean.\n",
        "\n",
        "3. Decision-Making: They serve as a benchmark for making informed decisions. Businesses use them to analyze sales, governments use them to study economic trends, and researchers use them to understand a typical result in an experiment.\n",
        "\n",
        "\n",
        "4. Identifying Skewness and Outliers: Comparing the mean and the median can reveal if a dataset is skewed or contains outliers. If the mean is significantly different from the median, it indicates that the data is not symmetrical."
      ],
      "metadata": {
        "id": "SLWhGTh1Mfuk"
      }
    },
    {
      "cell_type": "markdown",
      "source": [
        "**Question-4) Explain skewness and kurtosis. What does a positive skew imply about the data?**\n",
        "\n",
        "**Answer-4)**\n",
        "\n",
        "**1. Skewness :-**\n",
        "\n",
        "**Definition:** Skewness measures the asymmetry of a data distribution around its mean.\n",
        "\n",
        "Types:\n",
        "\n",
        "1. Zero skew (symmetric): Data is evenly distributed (e.g., normal distribution).\n",
        "\n",
        "2. Positive skew (right-skewed): Tail on the right side is longer → a few very large values pull the mean to the right.\n",
        "\n",
        "3. Negative skew (left-skewed): Tail on the left side is longer → a few very small values pull the mean to the left.\n",
        "\n",
        "Example:\n",
        "\n",
        "i. Positive skew: Income distribution (a few billionaires raise the mean).\n",
        "\n",
        "ii. Negative skew: Age at retirement (most people retire around 60–65, but a few retire very early).\n",
        "\n",
        "\n",
        "**2. Kurtosis :-**\n",
        "\n",
        "**Definition:** Kurtosis measures the tailedness (peakedness and extremity of outliers) of a distribution compared to the normal distribution.\n",
        "\n",
        "Types:\n",
        "\n",
        "1. Mesokurtic (kurtosis ≈ 3): Similar to normal distribution.\n",
        "\n",
        "2. Leptokurtic (kurtosis > 3): Sharper peak, fatter tails → more extreme values/outliers.\n",
        "\n",
        "3. Platykurtic (kurtosis < 3): Flatter peak, thinner tails → fewer extreme values.\n",
        "\n",
        "Example:\n",
        "\n",
        "i. Leptokurtic: Stock market returns (many extreme fluctuations).\n",
        "\n",
        "ii. Platykurtic: Uniform distribution (values spread evenly).\n",
        "\n",
        "**Positive Skewness Explained:-**\n",
        "\n",
        "A distribution has positive skewness (or is \"right-skewed\") when its tail is longer on the right side. This implies that most of the data is concentrated on the left side of the graph, with a few extreme, high values pulling the mean to the right.\n",
        "\n",
        "This is a common occurrence in real-world data, such as:\n",
        "\n",
        "1. Income Distribution: Most people have an income concentrated on the lower end, while a small number of individuals have extremely high incomes (e.g., millionaires and billionaires). This \"long tail\" of high earners pulls the average income to the right, making the mean greater than the median.\n",
        "\n",
        "\n",
        "2. Test Scores: A very easy test might have most students scoring high, with a few students who performed poorly. This would result in a left-skewed distribution. However, a very difficult test might have most students scoring low, with a few exceptional students who scored very high. This would lead to a positively skewed distribution, where the tail of high scores extends to the right.\n",
        "\n",
        "\n",
        "**Key Implications of Positive Skewness:**\n",
        "\n",
        "A positive skew implies the following relationship between the measures of central tendency:\n",
        "\n",
        "**Mean>Median>Mode**\n",
        "\n",
        "i. The mode (the most frequent value) will be at the peak of the curve, where most data points are clustered.\n",
        "\n",
        "ii. The median (the middle value) is less affected by the extreme high values and will be to the right of the mode.\n",
        "\n",
        "iii. The mean (the average) is pulled furthest to the right by the high-value outliers, making it the highest of the three.\n"
      ],
      "metadata": {
        "id": "9tke-e6NQjJH"
      }
    },
    {
      "cell_type": "code",
      "execution_count": null,
      "metadata": {
        "colab": {
          "base_uri": "https://localhost:8080/"
        },
        "id": "PCMAov_nIDR2",
        "outputId": "d39f9c3a-138e-49cf-a8d4-eb754a7c9fd3"
      },
      "outputs": [
        {
          "output_type": "stream",
          "name": "stdout",
          "text": [
            "Given Numbers: [12, 15, 12, 18, 19, 12, 20, 22, 19, 19, 24, 24, 24, 26, 28]\n",
            "Mean: 19.6\n",
            "Median: 19\n",
            "Mode: [12, 19, 24]\n"
          ]
        }
      ],
      "source": [
        "#Question-5) Implement a Python program to compute the mean, median, and mode of a given list of numbers. numbers = [12, 15, 12, 18, 19, 12, 20, 22, 19, 19, 24, 24, 24, 26, 28]\n",
        "\n",
        "#Answer-5)\n",
        "\n",
        "import statistics as stats\n",
        "\n",
        "# Given list\n",
        "numbers = [12, 15, 12, 18, 19, 12, 20, 22, 19, 19, 24, 24, 24, 26, 28]\n",
        "\n",
        "# Mean\n",
        "mean_value = stats.mean(numbers)\n",
        "\n",
        "# Median\n",
        "median_value = stats.median(numbers)\n",
        "\n",
        "# Mode (handles multiple modes in Python 3.8+ with multimode)\n",
        "mode_value = stats.multimode(numbers)\n",
        "\n",
        "# Display results\n",
        "print(\"Given Numbers:\", numbers)\n",
        "print(\"Mean:\", mean_value)\n",
        "print(\"Median:\", median_value)\n",
        "print(\"Mode:\", mode_value)"
      ]
    },
    {
      "cell_type": "code",
      "source": [
        "#Question-6)  Compute the covariance and correlation coefficient between the following two datasets provided as lists in Python: list_x = [10, 20, 30, 40, 50] list_y = [15, 25, 35, 45, 60]\n",
        "\n",
        "#Answer- 6)\n",
        "\n",
        "import numpy as np\n",
        "\n",
        "# Given data\n",
        "list_x = [10, 20, 30, 40, 50]\n",
        "list_y = [15, 25, 35, 45, 60]\n",
        "\n",
        "# Convert to numpy arrays\n",
        "x = np.array(list_x)\n",
        "y = np.array(list_y)\n",
        "\n",
        "# Mean of x and y\n",
        "mean_x = np.mean(x)\n",
        "mean_y = np.mean(y)\n",
        "\n",
        "# Covariance\n",
        "cov_xy = np.cov(x, y, ddof=1)[0][1]  # sample covariance\n",
        "\n",
        "# Correlation coefficient\n",
        "corr_xy = np.corrcoef(x, y)[0][1]\n",
        "\n",
        "# Results\n",
        "print(\"Mean of X:\", mean_x)\n",
        "print(\"Mean of Y:\", mean_y)\n",
        "print(\"Covariance:\", cov_xy)\n",
        "print(\"Correlation coefficient:\", corr_xy)"
      ],
      "metadata": {
        "colab": {
          "base_uri": "https://localhost:8080/"
        },
        "id": "u2ffUIvnUo3K",
        "outputId": "2870a509-c8e8-4552-f725-f9fa6afb251e"
      },
      "execution_count": null,
      "outputs": [
        {
          "output_type": "stream",
          "name": "stdout",
          "text": [
            "Mean of X: 30.0\n",
            "Mean of Y: 36.0\n",
            "Covariance: 275.0\n",
            "Correlation coefficient: 0.995893206467704\n"
          ]
        }
      ]
    },
    {
      "cell_type": "code",
      "source": [
        "#Question-7)  Write a Python script to draw a boxplot for the following numeric list and identify its outliers. Explain the result: data = [12, 14, 14, 15, 18, 19, 19, 21, 22, 22, 23, 23, 24, 26, 29, 35]\n",
        "\n",
        "#Answer-7)\n",
        "\n",
        "import matplotlib.pyplot as plt\n",
        "import numpy as np\n",
        "\n",
        "# Given data\n",
        "data = [12, 14, 14, 15, 18, 19, 19, 21, 22, 22, 23, 23, 24, 26, 29, 35]\n",
        "\n",
        "# Create a boxplot\n",
        "plt.figure(figsize=(8, 6))\n",
        "plt.boxplot(data, vert=False)\n",
        "plt.title('Boxplot of the Dataset')\n",
        "plt.xlabel('Values')\n",
        "plt.yticks([1], ['Data'])\n",
        "plt.grid(True, linestyle='--', alpha=0.6)\n",
        "plt.savefig('boxplot.png')\n",
        "\n",
        "# Calculate quartiles and IQR to identify outliers\n",
        "q1, q3 = np.percentile(data, [25, 75])\n",
        "iqr = q3 - q1\n",
        "\n",
        "# Define outlier fences\n",
        "lower_bound = q1 - 1.5 * iqr\n",
        "upper_bound = q3 + 1.5 * iqr\n",
        "\n",
        "# Identify outliers\n",
        "outliers = [x for x in data if x < lower_bound or x > upper_bound]\n",
        "\n",
        "print(f\"Data: {data}\")\n",
        "print(f\"First Quartile (Q1): {q1}\")\n",
        "print(f\"Third Quartile (Q3): {q3}\")\n",
        "print(f\"Interquartile Range (IQR): {iqr}\")\n",
        "print(f\"Lower Bound for Outliers: {lower_bound}\")\n",
        "print(f\"Upper Bound for Outliers: {upper_bound}\")\n",
        "print(f\"Identified Outliers: {outliers}\")"
      ],
      "metadata": {
        "colab": {
          "base_uri": "https://localhost:8080/",
          "height": 685
        },
        "id": "fSMEmkuxVOnZ",
        "outputId": "4d1491d6-08cf-4ff2-9a8c-fc9fdcf4c9da"
      },
      "execution_count": null,
      "outputs": [
        {
          "output_type": "stream",
          "name": "stdout",
          "text": [
            "Data: [12, 14, 14, 15, 18, 19, 19, 21, 22, 22, 23, 23, 24, 26, 29, 35]\n",
            "First Quartile (Q1): 17.25\n",
            "Third Quartile (Q3): 23.25\n",
            "Interquartile Range (IQR): 6.0\n",
            "Lower Bound for Outliers: 8.25\n",
            "Upper Bound for Outliers: 32.25\n",
            "Identified Outliers: [35]\n"
          ]
        },
        {
          "output_type": "display_data",
          "data": {
            "text/plain": [
              "<Figure size 800x600 with 1 Axes>"
            ],
            "image/png": "[encoded data removed]"
          },
          "metadata": {}
        }
      ]
    },
    {
      "cell_type": "markdown",
      "source": [
        "**Explanation of the result**\n",
        "\n",
        "A boxplot, also known as a box-and-whisker plot, is a standardized way of displaying the distribution of a dataset based on a five-number summary: the minimum, the first quartile (Q_1), the median, the third quartile (Q_3), and the maximum. It is particularly useful for visualizing the spread and skewness of the data and for identifying potential outliers.\n",
        "\n",
        "Understanding the Boxplot\n",
        "The Box represents the middle 50% of the data, with the bottom of the box at the first quartile (Q_1) and the top at the third quartile (Q_3). The line inside the box marks the median.\n",
        "\n",
        "The Whiskers extend from the box to the minimum and maximum values within a certain range, which is typically 1.5 times the Interquartile Range (IQR).\n",
        "\n",
        "Outliers are data points that fall outside the whiskers and are plotted as individual dots or symbols.\n",
        "\n",
        "Identifying Outliers\n",
        "Outliers are defined as values that are significantly different from other observations in the dataset. They are identified using the Interquartile Range (IQR), which is the distance between the first and third quartiles.\n",
        "\n",
        "The formulas for the outlier fences are:\n",
        "\n",
        "Lower Bound: Q_1−1.5\n",
        "times\n",
        "textIQR\n",
        "\n",
        "Upper Bound: Q_3+1.5\n",
        "times\n",
        "textIQR\n",
        "\n",
        "Any data point that is less than the lower bound or greater than the upper bound is considered an outlier.\n",
        "\n",
        "Result for the Given Data\n",
        "For the dataset [12, 14, 14, 15, 18, 19, 19, 21, 22, 22, 23, 23, 24, 26, 29, 35], the following values were calculated:\n",
        "\n",
        "First Quartile (Q_1): 17.25\n",
        "\n",
        "Third Quartile (Q_3): 23.25\n",
        "\n",
        "Interquartile Range (IQR): 23.25−17.25=6.0\n",
        "\n",
        "Lower Bound: 17.25−(1.5\n",
        "times6.0)=8.25\n",
        "\n",
        "Upper Bound: 23.25+(1.5\n",
        "times6.0)=32.25\n",
        "\n",
        "Based on these calculations, the only value in the dataset that falls outside the range of 8.25 to 32.25 is 35.\n",
        "\n",
        "The generated boxplot visually confirms this, showing 35 as the single outlier."
      ],
      "metadata": {
        "id": "_uPjZvhdIHap"
      }
    },
    {
      "cell_type": "code",
      "source": [
        "\"\"\"\n",
        "Question-8)\n",
        "You are working as a data analyst in an e-commerce company. The marketing team wants to know if there is a relationship between advertising spend and daily sales.\n",
        "● Explain how you would use covariance and correlation to explore this relationship.\n",
        "● Write Python code to compute the correlation between the two lists:\n",
        "advertising_spend = [200, 250, 300, 400, 500]\n",
        "daily_sales = [2200, 2450, 2750, 3200, 4000]\n",
        "\"\"\"\n",
        "\n",
        "#Answer-8)\n",
        "\n",
        "import numpy as np\n",
        "\n",
        "# Given data\n",
        "advertising_spend = [200, 250, 300, 400, 500]\n",
        "daily_sales = [2200, 2450, 2750, 3200, 4000]\n",
        "\n",
        "# Convert lists to NumPy arrays\n",
        "spend_array = np.array(advertising_spend)\n",
        "sales_array = np.array(daily_sales)\n",
        "\n",
        "# Calculate the correlation coefficient matrix\n",
        "correlation_matrix = np.corrcoef(spend_array, sales_array)\n",
        "\n",
        "# The correlation coefficient between advertising_spend and daily_sales is at position [0, 1]\n",
        "correlation_coefficient = correlation_matrix[0, 1]\n",
        "\n",
        "print(f\"Advertising Spend: {advertising_spend}\")\n",
        "print(f\"Daily Sales: {daily_sales}\")\n",
        "print(f\"Correlation Coefficient: {correlation_coefficient}\")"
      ],
      "metadata": {
        "colab": {
          "base_uri": "https://localhost:8080/"
        },
        "id": "sYUTezhGW_5y",
        "outputId": "342f67fe-3c8b-4293-98f9-7a295f8086bf"
      },
      "execution_count": null,
      "outputs": [
        {
          "output_type": "stream",
          "name": "stdout",
          "text": [
            "Advertising Spend: [200, 250, 300, 400, 500]\n",
            "Daily Sales: [2200, 2450, 2750, 3200, 4000]\n",
            "Correlation Coefficient: 0.9935824101653329\n"
          ]
        }
      ]
    },
    {
      "cell_type": "markdown",
      "source": [
        "As a data analyst, you can use covariance and correlation to determine if a relationship exists between advertising spend and daily sales. These statistical measures help quantify how two variables move in relation to each other.\n",
        "\n",
        "**Using Covariance and Correlation**\n",
        "\n",
        "A. Covariance measures the direction of the linear relationship between two variables.\n",
        "\n",
        "  1. A positive covariance indicates that when advertising spend increases, daily sales also tend to increase.\n",
        "\n",
        "  2. A negative covariance indicates that when advertising spend increases, daily sales tend to decrease.\n",
        "\n",
        "  3. A covariance close to zero suggests there's no linear relationship between the two variables.\n",
        "\n",
        "B. Correlation is a more useful measure because it standardizes the relationship, making it easier to interpret. The correlation coefficient ranges from -1 to +1.\n",
        "\n",
        "   1. A correlation close to +1 indicates a very strong positive linear relationship, meaning that as advertising spend goes up, sales go up in a predictable way.\n",
        "\n",
        "   2. A correlation close to -1 indicates a very strong negative linear relationship.\n",
        "\n",
        "  3. A correlation close to 0 suggests no linear relationship.\n",
        "\n",
        "For the marketing team's question, you would look for a strong, positive correlation. This would provide strong evidence that increasing advertising spend is associated with a rise in sales."
      ],
      "metadata": {
        "id": "YcroYPiLYqDa"
      }
    },
    {
      "cell_type": "code",
      "source": [
        "import numpy as np\n",
        "\n",
        "advertising_spend = [200, 250, 300, 400, 500]\n",
        "daily_sales = [2200, 2450, 2750, 3200, 4000]\n",
        "\n",
        "spend_array = np.array(advertising_spend)\n",
        "sales_array = np.array(daily_sales)\n",
        "\n",
        "correlation_matrix = np.corrcoef(spend_array, sales_array)\n",
        "correlation_coefficient = correlation_matrix[0, 1]\n",
        "\n",
        "print(f\"Correlation Coefficient: {correlation_coefficient}\")"
      ],
      "metadata": {
        "colab": {
          "base_uri": "https://localhost:8080/"
        },
        "id": "-XTrxJ9SYopT",
        "outputId": "115df867-e311-4711-ca2d-f1612db98d6a"
      },
      "execution_count": null,
      "outputs": [
        {
          "output_type": "stream",
          "name": "stdout",
          "text": [
            "Correlation Coefficient: 0.9935824101653329\n"
          ]
        }
      ]
    },
    {
      "cell_type": "markdown",
      "source": [
        "**Correlation Calculation**\n",
        "\n",
        "The Python code above computes the correlation coefficient for the provided datasets.\n",
        "\n",
        "Advertising Spend: [200, 250, 300, 400, 500]\n",
        "\n",
        "Daily Sales: [2200, 2450, 2750, 3200, 4000]\n",
        "\n",
        "\n",
        "The computed correlation coefficient is approximately 0.9936. This value is very close to +1, which indicates a very strong positive linear relationship between advertising spend and daily sales. This result suggests that as the company's advertising spend increases, their daily sales also increase significantly."
      ],
      "metadata": {
        "id": "tbZYVETsZup6"
      }
    },
    {
      "cell_type": "markdown",
      "source": [
        "**Question-9)**\n",
        "**Your team has collected customer satisfaction survey data on a scale of 1-10 and wants to understand its distribution before launching a new product.**\n",
        "\n",
        " **● Explain which summary statistics and visualizations (e.g. mean, standard deviation, histogram) you’d use.**\n",
        "\n",
        " **● Write Python code to create a histogram using Matplotlib for the survey data:**\n",
        "\n",
        " **survey_scores = [7, 8, 5, 9, 6, 7, 8, 9, 10, 4, 7, 6, 9, 8, 7]**\n",
        "\n",
        "**#Answer-9)**\n",
        "\n",
        "In this scenario, to understand the distribution of customer satisfaction survey data, you would use a combination of summary statistics and visualizations. The goal is to get a clear picture of the central tendency, spread, and shape of the data before drawing any conclusions for the new product launch.\n",
        "\n",
        "\n",
        "**Summary Statistics and Visualizations**\n",
        "\n",
        "A) Measures of Central Tendency\n",
        "   1. Mean: The average score gives you a quick snapshot of the overall satisfaction level.\n",
        "\n",
        "   2. Median: The middle score is important because it is not affected by outliers, giving a more accurate sense of \"typical\" satisfaction if a few customers rated the product very high or very low.\n",
        "\n",
        "   3. Mode: The most frequent score tells you the most common satisfaction rating given by customers.\n",
        "\n",
        "B) Measures of Variability\n",
        "   1. Standard Deviation: This is crucial to understand the spread of the data. A low standard deviation means scores are tightly clustered around the mean, indicating consistent satisfaction. A high standard deviation means scores are widely spread, suggesting a divided customer base with some very satisfied and some very dissatisfied customers.\n",
        "\n",
        "C) Visualizations\n",
        "   1. Histogram: A histogram is the most effective visualization for this kind of data. It groups the scores into bins and shows the frequency of each bin. A histogram allows you to quickly see the shape of the distribution, identify the most common scores, and spot any unusual patterns. For instance, a histogram can reveal if the data is skewed, indicating that most customers are either highly satisfied or highly dissatisfied."
      ],
      "metadata": {
        "id": "L3e8WVjYbRRu"
      }
    },
    {
      "cell_type": "code",
      "source": [
        "\"\"\"\n",
        "The Python code below uses the matplotlib library to create a histogram for the survey data.\n",
        "survey_scores = [7, 8, 5, 9, 6, 7, 8, 9, 10, 4, 7, 6, 9, 8, 7]\n",
        "\"\"\"\n",
        "\n",
        "import matplotlib.pyplot as plt\n",
        "\n",
        "# Given survey data\n",
        "survey_scores = [7, 8, 5, 9, 6, 7, 8, 9, 10, 4, 7, 6, 9, 8, 7]\n",
        "\n",
        "# Create a histogram\n",
        "plt.figure(figsize=(10, 6))\n",
        "plt.hist(survey_scores, bins=len(set(survey_scores)), edgecolor='black', rwidth=0.8)\n",
        "plt.title('Customer Satisfaction Survey Scores (1-10)', fontsize=16)\n",
        "plt.xlabel('Satisfaction Score', fontsize=12)\n",
        "plt.ylabel('Frequency', fontsize=12)\n",
        "plt.xticks(range(4, 11))\n",
        "plt.grid(axis='y', alpha=0.75, linestyle='--')\n",
        "\n",
        "# Save the plot to a file\n",
        "plt.savefig('customer_satisfaction_histogram.png')\n",
        "\n",
        "print(\"Histogram plot has been generated as 'customer_satisfaction_histogram.png'\")"
      ],
      "metadata": {
        "colab": {
          "base_uri": "https://localhost:8080/",
          "height": 587
        },
        "id": "zFHFL0FLaNa0",
        "outputId": "4b4044e2-5c6f-4cd0-dddd-40ef17c62993"
      },
      "execution_count": null,
      "outputs": [
        {
          "output_type": "stream",
          "name": "stdout",
          "text": [
            "Histogram plot has been generated as 'customer_satisfaction_histogram.png'\n"
          ]
        },
        {
          "output_type": "display_data",
          "data": {
            "text/plain": [
              "<Figure size 1000x600 with 1 Axes>"
            ],
            "image/png": "[encoded data removed]"
          },
          "metadata": {}
        }
      ]
    },
    {
      "cell_type": "code",
      "source": [],
      "metadata": {
        "id": "0eiGl_dac1IF"
      },
      "execution_count": null,
      "outputs": []
    }
  ]
}