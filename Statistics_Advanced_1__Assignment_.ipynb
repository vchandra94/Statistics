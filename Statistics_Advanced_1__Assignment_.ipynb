{
  "nbformat": 4,
  "nbformat_minor": 0,
  "metadata": {
    "colab": {
      "provenance": []
    },
    "kernelspec": {
      "name": "python3",
      "display_name": "Python 3"
    },
    "language_info": {
      "name": "python"
    }
  },
  "cells": [
    {
      "cell_type": "markdown",
      "source": [
        "# Statistics Advanced -1 Assignment :- Solutions"
      ],
      "metadata": {
        "id": "v-d5sBAr5ns5"
      }
    },
    {
      "cell_type": "markdown",
      "source": [
        "**Question 1: What is a random variable in probability theory?**\n",
        "\n",
        "**Answer-1)**\n",
        "\n",
        "A random variable is a function that assigns a numerical value to each possible outcome of a random experiment. This differs from an algebraic variable, which represents a single unknown value that can be solved for. Instead, a random variable's value is unknown until the experiment is performed, and it can take on a range of different values with varying probabilities.\n",
        "\n",
        "A random variable (RV) is a mapping:\n",
        "\n",
        "𝑋 : Ω → 𝑅\n",
        "\n",
        "\n",
        "where:\n",
        "\n",
        "Ω is the sample space (the set of all possible outcomes).\n",
        "\n",
        "X assigns a numerical value to each outcome in Ω.\n"
      ],
      "metadata": {
        "id": "scBEmauk5pUK"
      }
    },
    {
      "cell_type": "markdown",
      "source": [
        "**Question-02) nWhat are the types of random variables?**\n",
        "\n",
        "**Answer-2)**\n",
        "\n",
        "Random variables are classified into two main types: discrete and continuous. The type depends on the set of possible values the variable can take.\n",
        "\n",
        "\n",
        "1. **Discrete Random Variables**\n",
        "\n",
        "    A discrete random variable can take on a finite number of values or an infinite but countable number of values. These variables are typically used for counting things.\n",
        "\n",
        "    **Examples:**\n",
        "\n",
        "    The number of heads in three coin flips. The possible outcomes are 0, 1, 2, or 3. You can't have 1.5 heads.\n",
        "\n",
        "\n",
        "    The number of students in a class. This can be any whole number like 20, 25, or 30, but not a fractional value like 22.7.\n",
        "\n",
        "\n",
        "    The number on a single die roll. The outcome can only be one of the integers {1, 2, 3, 4, 5, 6}.\n",
        "\n",
        "\n",
        "2. **Continuous Random Variables**\n",
        "\n",
        "    A continuous random variable can take on any value within a specified interval. These variables are typically used for measurements, where the value can be infinitely divided into smaller units.\n",
        "\n",
        "    **Examples:**\n",
        "\n",
        "    A person's height. Height can be 170 cm, 170.5 cm, 170.55 cm, and so on. The number of possible values is infinite.\n",
        "\n",
        "    The time it takes to run a race. The time could be 10.5 seconds, 10.52 seconds, or 10.523 seconds, depending on the precision of the stopwatch.\n",
        "\n",
        "    The temperature of a room. The temperature can fluctuate and take on any value within a range, such as 22.1°C or 22.105°C."
      ],
      "metadata": {
        "id": "jk8B4hiO72h2"
      }
    },
    {
      "cell_type": "markdown",
      "source": [
        "**Question-3) Explain the difference between discrete and continuous distributions.**\n",
        "\n",
        "**Answer-3)**\n",
        "\n",
        "The primary difference between discrete and continuous distributions is the nature of the data they describe. Discrete distributions deal with data that can be counted and have distinct, separate values, while continuous distributions deal with data that can be measured and can take on any value within a given range.\n",
        "\n",
        "1. **Discrete Distributions**\n",
        "\n",
        "    Discrete distributions are used for random variables whose possible outcomes are finite or countably infinite. The probability is assigned to each individual, specific value. You can think of this as a list of outcomes, each with its own probability. The sum of all these individual probabilities must equal 1.\n",
        "\n",
        "    **Key Characteristics:**\n",
        "\n",
        "     a. Outcomes are distinct and countable (e.g., integers).\n",
        "\n",
        "     b. There are \"gaps\" between possible values.\n",
        "\n",
        "     c. The probability of a single, specific value is a positive number.\n",
        "\n",
        "     d. Represented by a Probability Mass Function (PMF), often shown as a bar graph.\n",
        "\n",
        "    **Examples:**\n",
        "\n",
        "    The number of times you get heads when flipping a coin 10 times. (The possible values are 0, 1, 2, ..., 10).\n",
        "\n",
        "    The number of defective items in a batch of products.\n",
        "\n",
        "2. **Continuous Distributions**\n",
        "\n",
        "    Continuous distributions are used for random variables that can take on an infinite number of values within a continuous range. These are typically measurements. Since there are infinite possibilities, the probability of the variable equaling any single, exact value is zero. Instead, probability is calculated for a range of values.\n",
        "\n",
        "    **Key Characteristics:**\n",
        "\n",
        "     a. Outcomes are measurable and can include fractions or decimals.\n",
        "\n",
        "     b. There are no \"gaps\" between possible values.\n",
        "\n",
        "     c. The probability of a single, specific value is zero.\n",
        "\n",
        "     d. Represented by a Probability Density Function (PDF), which is a smooth, continuous curve. The probability of an outcome within a range is the area under the curve between those two points.\n",
        "\n",
        "    **Examples:**\n",
        "\n",
        "    A person's height. (A person's height could be 175 cm, 175.1 cm, 175.12 cm, etc.)\n",
        "\n",
        "    The amount of time it takes to complete a task.\n",
        "\n"
      ],
      "metadata": {
        "id": "ovCbzlpW9axr"
      }
    },
    {
      "cell_type": "markdown",
      "source": [
        "**Question- 4)  What is a binomial distribution, and how is it used in probability?**\n",
        "\n",
        "**Answer-4)**\n",
        "\n",
        "A binomial distribution is a discrete probability distribution that models the number of successes in a fixed number of independent trials. It's used when an experiment has only two possible outcomes, often labeled as \"success\" and \"failure,\" and is repeated a set number of times.\n",
        "\n",
        "**Key Conditions for a Binomial Distribution**\n",
        "\n",
        "For a random variable to follow a binomial distribution, it must meet four specific criteria:\n",
        "\n",
        "1. Fixed number of trials (n): The experiment is repeated a predetermined number of times. For example, flipping a coin exactly 10 times.\n",
        "\n",
        "2. Only two outcomes: Each trial must result in either a \"success\" or a \"failure.\"\n",
        "\n",
        "3. Independent trials: The outcome of one trial does not affect the outcome of any other trial.\n",
        "\n",
        "4. Constant probability (p): The probability of a \"success\" remains the same for every single trial.\n",
        "\n",
        "**How it's Used in Probability**\n",
        "\n",
        "The binomial distribution allows us to calculate the probability of getting a specific number of successes (k) in a fixed number of trials (n). For example, you can use it to answer questions like:\n",
        "\n",
        "  i. What is the probability of getting exactly 7 heads in 10 coin flips?\n",
        "\n",
        "  ii. What is the probability that 3 out of 5 randomly selected customers will respond to a survey?\n",
        "\n",
        "The formula for the probability of k successes in n trials is:\n",
        "\n",
        "P(X=k)=C(n,k)∗p\n",
        "k\n",
        " ∗(1−p)\n",
        "n−k\n",
        "\n",
        "\n",
        "Where:\n",
        "\n",
        "P(X=k) is the probability of exactly k successes.\n",
        "\n",
        "n is the total number of trials.\n",
        "\n",
        "k is the number of successes you want to find the probability for.\n",
        "\n",
        "p is the probability of success on a single trial.\n",
        "\n",
        "C(n,k) is the binomial coefficient, which represents the number of ways to choose k successes from n trials.\n",
        "\n",
        "The binomial distribution is a fundamental tool in statistics with applications in quality control, genetics, and polling"
      ],
      "metadata": {
        "id": "9PExiaPe_R8F"
      }
    },
    {
      "cell_type": "markdown",
      "source": [
        "**Question-5) What is the standard normal distribution, and why is it important?**\n",
        "\n",
        "**Answer-5)**\n",
        "\n",
        "The standard normal distribution, also known as the z-distribution, is a special type of normal distribution. It has a mean (μ) of 0 and a standard deviation (σ) of 1. All other normal distributions can be converted into a standard normal distribution using a process called standardization\n",
        "\n",
        "**It is important because:-**\n",
        "\n",
        "The standard normal distribution is crucial in statistics for a few key reasons:\n",
        "\n",
        "1. Simplifies Probability Calculations: Instead of needing a separate table for every possible normal distribution (which would be infinite), you can convert any normal distribution into a standard normal distribution. This allows you to use a single, standardized table (the z-table) to find the probabilities associated with any given value.\n",
        "\n",
        "2. Facilitates Data Comparison: It provides a common scale for comparing different datasets. By converting values from different normal distributions into z-scores, you can see how many standard deviations away from the mean a value is. For example, a z-score of 2 in one dataset represents the same relative position (two standard deviations above the mean) as a z-score of 2 in another dataset, even if the original units (e.g., pounds vs. kilograms) and means are different.\n",
        "\n",
        "\n",
        "3. Foundation for Statistical Inference: Many statistical tests, such as hypothesis testing, rely on the properties of the standard normal distribution. It's used to calculate p-values and determine the significance of results"
      ],
      "metadata": {
        "id": "48kapZxkA22P"
      }
    },
    {
      "cell_type": "markdown",
      "source": [
        "**Question-6)  What is the Central Limit Theorem (CLT), and why is it critical in statistics?**\n",
        "\n",
        "**Answer-6)**\n",
        "\n",
        "The Central Limit Theorem (CLT) is a fundamental principle in statistics that states that as the sample size increases, the distribution of the sample means will become approximately normal, regardless of the shape of the original population's distribution. This holds true even if the population data is skewed, uniform, or has a completely different shape. The theorem essentially shows that the average of a sufficiently large number of independent random variables will be normally distributed.\n",
        "\n",
        "**CLT is critical because:-**\n",
        "\n",
        "The Central Limit Theorem is critical because it provides a bridge between sample data and the overall population. It allows statisticians and data analysts to make inferences about a population without having to test every single individual, which is often impossible. Here's why it's so vital:\n",
        "\n",
        "\n",
        "1. Foundation for Inferential Statistics: The CLT is the basis for many statistical tests, such as t-tests and ANOVA, and is essential for constructing confidence intervals. These tools are used to make predictions and draw conclusions about a population based on sample data. Without the CLT, these common statistical methods would not be reliable, especially for non-normal data.\n",
        "\n",
        "2. Simplifies Complex Distributions: It allows us to use the properties of the normal distribution, which are well-understood and have readily available tables (like the z-table), to analyze data from any distribution. This simplifies calculations and makes statistical analysis more practical.\n",
        "\n",
        "3. Enables Accurate Estimation: Because the distribution of sample means becomes normal and its variance decreases as the sample size grows, the CLT provides a way to estimate population parameters with a known degree of accuracy. The larger the sample size, the more confident we can be that our sample mean is close to the true population mean."
      ],
      "metadata": {
        "id": "P4zlIxS8B_mP"
      }
    },
    {
      "cell_type": "markdown",
      "source": [
        "**Question-7) What is the significance of confidence intervals in statistical analysis?**\n",
        "\n",
        "**Answer-7)**\n",
        "\n",
        "Confidence intervals are a fundamental tool in statistical analysis used to express the reliability of an estimate. Instead of providing a single-point estimate (like a sample mean), a confidence interval gives a range of values within which the true population parameter (like the population mean) is likely to fall.\n",
        "\n",
        "**The Meaning of a Confidence Interval**\n",
        "\n",
        "A confidence interval is defined by a confidence level, which is a percentage (e.g., 95% or 99%). This percentage does not mean there is a 95% chance that the true parameter is in that specific interval. Instead, it means that if you were to take many different samples and calculate a confidence interval for each, approximately 95% of those intervals would contain the true population parameter.\n",
        "\n",
        "For example, if you report a 95% confidence interval for a survey result, you are stating that you are 95% confident that the true percentage of the population that holds a particular opinion falls within the calculated range.\n",
        "\n",
        "\n",
        "**Why They Are Important**\n",
        "\n",
        "Confidence intervals are significant for several key reasons:\n",
        "\n",
        "1. Quantifying Uncertainty: They provide a clear way to communicate the uncertainty associated with a sample statistic. A narrower interval suggests more precision in your estimate, while a wider interval indicates greater uncertainty.\n",
        "\n",
        "\n",
        "2. Aiding Decision-Making: They help in making more informed decisions. For instance, a politician might use a confidence interval to understand the true range of support for a policy, knowing that the single percentage from a poll is just an estimate.\n",
        "\n",
        "3. Context for Statistical Tests: Confidence intervals are closely related to hypothesis testing. If the confidence interval for the difference between two groups does not include zero, it suggests that the difference is statistically significant.\n",
        "\n",
        "\n",
        "4. Intuitive Interpretation: They are often easier for non-statisticians to understand than p-values. Rather than just saying a result is \"significant,\" you can provide a tangible range of plausible values for the parameter of interest."
      ],
      "metadata": {
        "id": "A9-HqadbDTXi"
      }
    },
    {
      "cell_type": "markdown",
      "source": [
        "**Questio-8)  What is the concept of expected value in a probability distribution?**\n",
        "\n",
        "**Answer-8)**\n",
        "\n",
        "The expected value, also known as the mean or average of a probability distribution, is the long-run average outcome of a random variable. It's a weighted average of all possible values, where each value is weighted by its probability of occurrence. The expected value isn't necessarily a value that the variable will ever take on, but rather a theoretical average that would be observed if you were to repeat the random experiment an infinite number of times.\n",
        "\n",
        "\n",
        "\n",
        "**Calculation**\n",
        "\n",
        "For a discrete random variable, the expected value (E[X]) is calculated by multiplying each possible outcome (x\n",
        "i\n",
        "​\n",
        " ) by its corresponding probability (P(x\n",
        "i\n",
        "​\n",
        " )) and then summing up all these products.\n",
        "\n",
        "E[X]=∑x\n",
        "i\n",
        "​\n",
        " ∗P(x\n",
        "i\n",
        "​\n",
        " )\n",
        "\n",
        "**Example:**\n",
        "\n",
        "If you roll a fair six-sided die, each side (1, 2, 3, 4, 5, 6) has a probability of 1/6.\n",
        "E[X]=(1∗1/6)+(2∗1/6)+(3∗1/6)+(4∗1/6)+(5∗1/6)+(6∗1/6)=21/6=3.5\n",
        "The expected value of 3.5 is not a possible outcome of a single roll, but it is the average result you would expect over a large number of rolls.\n",
        "\n",
        "\n",
        "For a continuous random variable, the summation is replaced by an integral, and the probability mass function is replaced by the probability density function.\n",
        "\n",
        "E[X]=∫x∗f(x)dx\n",
        "\n",
        "**Significance**\n",
        "\n",
        "The expected value is a crucial concept in statistics because it:\n",
        "\n",
        "1. Measures the central tendency of a random variable.\n",
        "\n",
        "2. Helps with decision-making under uncertainty, particularly in fields like finance and gambling. For example, by calculating the expected value of a lottery ticket, you can determine the average gain or loss per ticket in the long run.\n",
        "\n",
        "\n",
        "3. Is a key component in calculating other statistical measures, such as variance and standard deviation."
      ],
      "metadata": {
        "id": "uHQ0LWuWEHnk"
      }
    },
    {
      "cell_type": "code",
      "source": [
        "\"\"\"\n",
        "Question-9) Write a Python program to generate 1000 random numbers from a normal distribution with mean = 50 and standard deviation = 5.\n",
        "Compute its mean and standard deviation using NumPy, and draw a histogram to visualize the distribution.\n",
        "\n",
        "#Answer-9)\n",
        "\"\"\"\n",
        "\n",
        "import numpy as np\n",
        "import matplotlib.pyplot as plt\n",
        "\n",
        "# Parameters for the normal distribution\n",
        "mean = 50\n",
        "std_dev = 5\n",
        "num_samples = 1000\n",
        "\n",
        "# Generate 1000 random numbers from a normal distribution\n",
        "# with the specified mean and standard deviation.\n",
        "data = np.random.normal(mean, std_dev, num_samples)\n",
        "\n",
        "# Compute the mean and standard deviation of the generated data using NumPy\n",
        "computed_mean = np.mean(data)\n",
        "computed_std_dev = np.std(data)\n",
        "\n",
        "# Print the results\n",
        "print(f\"Generated data consists of {num_samples} random numbers.\")\n",
        "print(f\"Original Mean: {mean}, Original Standard Deviation: {std_dev}\")\n",
        "print(f\"Computed Mean: {computed_mean:.4f}\")\n",
        "print(f\"Computed Standard Deviation: {computed_std_dev:.4f}\")\n",
        "\n",
        "# Visualize the data using a histogram\n",
        "plt.figure(figsize=(10, 6))\n",
        "plt.hist(data, bins=30, density=True, alpha=0.6, color='g', label='Generated Data')\n",
        "\n",
        "# Plot the theoretical normal distribution curve for comparison\n",
        "x = np.linspace(min(data), max(data), 100)\n",
        "pdf = (1/(std_dev * np.sqrt(2 * np.pi))) * np.exp(-0.5 * ((x - mean)/std_dev)**2)\n",
        "plt.plot(x, pdf, 'r-', linewidth=2, label='Theoretical Normal Distribution')\n",
        "\n",
        "plt.title('Histogram of a Normal Distribution')\n",
        "plt.xlabel('Value')\n",
        "plt.ylabel('Density')\n",
        "plt.legend()\n",
        "plt.grid(True, linestyle='--', alpha=0.7)\n",
        "plt.show()\n"
      ],
      "metadata": {
        "colab": {
          "base_uri": "https://localhost:8080/",
          "height": 633
        },
        "id": "JOOSPg_jFjug",
        "outputId": "4e720561-ec66-41f4-a6a7-bf8d296c33a7"
      },
      "execution_count": 1,
      "outputs": [
        {
          "output_type": "stream",
          "name": "stdout",
          "text": [
            "Generated data consists of 1000 random numbers.\n",
            "Original Mean: 50, Original Standard Deviation: 5\n",
            "Computed Mean: 50.0005\n",
            "Computed Standard Deviation: 5.1157\n"
          ]
        },
        {
          "output_type": "display_data",
          "data": {
            "text/plain": [
              "<Figure size 1000x600 with 1 Axes>"
            ],
            "image/png": "[encoded data removed]"
          },
          "metadata": {}
        }
      ]
    },
    {
      "cell_type": "markdown",
      "source": [
        "**Question-10)**\n",
        "You are working as a data analyst for a retail company.\n",
        "The company has collected daily sales data for 2 years and wants you to identify the overall sales trend.\n",
        "\n",
        "daily_sales = [220, 245, 210, 265, 230, 250, 260, 275, 240, 255, 235, 260, 245, 250, 225, 270, 265, 255, 250, 260]\n",
        "\n",
        "1. Explain how you would apply the Central Limit Theorem to estimate the average sales with a 95% confidence interval.\n",
        "2.  Write the Python code to compute the mean sales and its confidence interval.\n"
      ],
      "metadata": {
        "id": "GtMEp7mBIClb"
      }
    },
    {
      "cell_type": "code",
      "source": [
        "# Answer-10) Part-1) Explain how you would apply the Central Limit Theorem to estimate the average sales with a 95% confidence interval.\n",
        "\"\"\"\n",
        "Hello! As a data analyst, I'd be now explain this process and provide the code.\n",
        "\n",
        "Even though we only have a sample of 20 days of data here,\n",
        "the Central Limit Theorem (CLT) is a powerful concept that allows us to make inferences about the larger population (the entire 2 years of sales data).\n",
        "CLT states that if we were to take many large enough samples from a population,\n",
        "the distribution of their means would be approximately normal, regardless of the original population's distribution.\n",
        "The mean of this sampling distribution of means would be equal to the true population mean.\n",
        "\n",
        "Using the CLT, we can use our sample data to estimate the true average daily sales for the entire 2-year period.\n",
        "A confidence interval quantifies the uncertainty of this estimate by providing a range of values in which the true population mean is likely to fall. For a 95% confidence interval,\n",
        "we are 95% confident that the true population mean lies within our calculated range.\n",
        "\n",
        "To construct this interval,\n",
        "we calculate the sample mean and the standard error of the mean (the sample's standard deviation divided by the square root of the sample size).\n",
        "We then multiply the standard error by a critical value (a Z-score) that corresponds to our desired confidence level.\n",
        "For a 95% confidence interval, this Z-score is approximately 1.96. The resulting value is our margin of error, which we add and subtract from the sample mean to get the interval.\n",
        "\n",
        "Here is a Python program that performs these calculations.\n",
        "This program calculates the sample mean and standard deviation from the provided data.\n",
        "It then uses these values to compute a 95% confidence interval for the average daily sales, providing a reliable range for your estimate.\n",
        "\"\"\"\n",
        "\n",
        "import numpy as np\n",
        "from math import sqrt\n",
        "\n",
        "# Provided daily sales data for a sample period\n",
        "daily_sales = np.array([220, 245, 210, 265, 230, 250, 260, 275, 240, 255, 235, 260, 245, 250, 225, 270, 265, 255, 250, 260])\n",
        "\n",
        "# --- Step 1: Compute the sample mean and standard deviation ---\n",
        "sample_mean = np.mean(daily_sales)\n",
        "sample_std_dev = np.std(daily_sales, ddof=1) # ddof=1 for sample standard deviation\n",
        "\n",
        "# --- Step 2: Define parameters for the confidence interval ---\n",
        "n = len(daily_sales) # Sample size\n",
        "confidence_level = 0.95\n",
        "# The critical value (Z-score) for a 95% confidence interval is 1.96\n",
        "z_score = 1.96\n",
        "\n",
        "# --- Step 3: Calculate the standard error of the mean ---\n",
        "# Standard error is the sample standard deviation divided by the square root of the sample size.\n",
        "standard_error = sample_std_dev / sqrt(n)\n",
        "\n",
        "# --- Step 4: Calculate the margin of error ---\n",
        "margin_of_error = z_score * standard_error\n",
        "\n",
        "# --- Step 5: Compute the confidence interval ---\n",
        "confidence_interval_lower = sample_mean - margin_of_error\n",
        "confidence_interval_upper = sample_mean + margin_of_error\n",
        "\n",
        "# --- Print the results ---\n",
        "print(\"--- Daily Sales Data Analysis ---\")\n",
        "print(f\"Sample Size (n): {n}\")\n",
        "print(f\"Sample Mean: ${sample_mean:.2f}\")\n",
        "print(f\"Sample Standard Deviation: ${sample_std_dev:.2f}\")\n",
        "print(f\"Standard Error of the Mean: ${standard_error:.2f}\")\n",
        "print(f\"Margin of Error (95% CI): ${margin_of_error:.2f}\")\n",
        "print(\"\\n-------------------------------\")\n",
        "print(f\"The 95% confidence interval for the true average daily sales is:\")\n",
        "print(f\"[{confidence_interval_lower:.2f}, {confidence_interval_upper:.2f}]\")\n",
        "print(\"-------------------------------\")\n"
      ],
      "metadata": {
        "colab": {
          "base_uri": "https://localhost:8080/"
        },
        "id": "eDkoPttuLIlk",
        "outputId": "0a32effe-ee0c-4832-a120-46eacff26345"
      },
      "execution_count": 5,
      "outputs": [
        {
          "output_type": "stream",
          "name": "stdout",
          "text": [
            "--- Daily Sales Data Analysis ---\n",
            "Sample Size (n): 20\n",
            "Sample Mean: $248.25\n",
            "Sample Standard Deviation: $17.27\n",
            "Standard Error of the Mean: $3.86\n",
            "Margin of Error (95% CI): $7.57\n",
            "\n",
            "-------------------------------\n",
            "The 95% confidence interval for the true average daily sales is:\n",
            "[240.68, 255.82]\n",
            "-------------------------------\n"
          ]
        }
      ]
    },
    {
      "cell_type": "code",
      "source": [
        "#Answer-10) part-2)\n",
        "\n",
        "import numpy as np\n",
        "from math import sqrt\n",
        "from scipy.stats import t\n",
        "\n",
        "# Provided daily sales data for a sample period\n",
        "daily_sales = np.array([220, 245, 210, 265, 230, 250, 260, 275, 240, 255, 235, 260, 245, 250, 225, 270, 265, 255, 250, 260])\n",
        "\n",
        "# --- Step 1: Compute the sample mean and standard deviation ---\n",
        "sample_mean = np.mean(daily_sales)\n",
        "sample_std_dev = np.std(daily_sales, ddof=1) # ddof=1 for sample standard deviation\n",
        "\n",
        "# --- Step 2: Define parameters for the confidence interval ---\n",
        "n = len(daily_sales) # Sample size\n",
        "confidence_level = 0.95\n",
        "degrees_of_freedom = n - 1\n",
        "\n",
        "# Since the sample size is small (n < 30), it is more appropriate to use the t-distribution\n",
        "# to find the critical value. For larger samples, the t-distribution\n",
        "# approximates the normal distribution.\n",
        "alpha = 1 - confidence_level\n",
        "t_critical = t.ppf(1 - alpha / 2, degrees_of_freedom)\n",
        "\n",
        "# --- Step 3: Calculate the standard error of the mean ---\n",
        "# Standard error is the sample standard deviation divided by the square root of the sample size.\n",
        "standard_error = sample_std_dev / sqrt(n)\n",
        "\n",
        "# --- Step 4: Calculate the margin of error ---\n",
        "margin_of_error = t_critical * standard_error\n",
        "\n",
        "# --- Step 5: Compute the confidence interval ---\n",
        "confidence_interval_lower = sample_mean - margin_of_error\n",
        "confidence_interval_upper = sample_mean + margin_of_error\n",
        "\n",
        "# --- Print the results ---\n",
        "print(\"--- Daily Sales Data Analysis ---\")\n",
        "print(f\"Sample Size (n): {n}\")\n",
        "print(f\"Sample Mean: ${sample_mean:.2f}\")\n",
        "print(f\"Sample Standard Deviation: ${sample_std_dev:.2f}\")\n",
        "print(f\"Degrees of Freedom: {degrees_of_freedom}\")\n",
        "print(f\"T-Critical Value for {confidence_level*100}% CI: {t_critical:.2f}\")\n",
        "print(f\"Standard Error of the Mean: ${standard_error:.2f}\")\n",
        "print(f\"Margin of Error: ${margin_of_error:.2f}\")\n",
        "print(\"\\n-------------------------------\")\n",
        "print(f\"The {confidence_level*100}% confidence interval for the true average daily sales is:\")\n",
        "print(f\"[{confidence_interval_lower:.2f}, {confidence_interval_upper:.2f}]\")\n",
        "print(\"-------------------------------\")"
      ],
      "metadata": {
        "colab": {
          "base_uri": "https://localhost:8080/"
        },
        "id": "dLGoqHc9OI3M",
        "outputId": "fca8db24-95d7-44b3-f486-d19d57b13753"
      },
      "execution_count": 6,
      "outputs": [
        {
          "output_type": "stream",
          "name": "stdout",
          "text": [
            "--- Daily Sales Data Analysis ---\n",
            "Sample Size (n): 20\n",
            "Sample Mean: $248.25\n",
            "Sample Standard Deviation: $17.27\n",
            "Degrees of Freedom: 19\n",
            "T-Critical Value for 95.0% CI: 2.09\n",
            "Standard Error of the Mean: $3.86\n",
            "Margin of Error: $8.08\n",
            "\n",
            "-------------------------------\n",
            "The 95.0% confidence interval for the true average daily sales is:\n",
            "[240.17, 256.33]\n",
            "-------------------------------\n"
          ]
        }
      ]
    },
    {
      "cell_type": "code",
      "source": [],
      "metadata": {
        "id": "PL6aSZmHPIGB"
      },
      "execution_count": null,
      "outputs": []
    }
  ]
}